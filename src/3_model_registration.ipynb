{
 "cells": [
  {
   "cell_type": "code",
   "execution_count": 0,
   "metadata": {
    "application/vnd.databricks.v1+cell": {
     "cellMetadata": {
      "byteLimit": 2048000,
      "rowLimit": 10000
     },
     "inputWidgets": {},
     "nuid": "11adb914-da85-4641-9381-7e4576b88e89",
     "showTitle": false,
     "tableResultSettingsMap": {},
     "title": ""
    }
   },
   "outputs": [
    {
     "name": "stdout",
     "output_type": "stream",
     "text": [
      "\u001b[43mNote: you may need to restart the kernel using %restart_python or dbutils.library.restartPython() to use updated packages.\u001b[0m\n"
     ]
    }
   ],
   "source": [
    "%pip install --quiet mlflow==2.22.0\n",
    "dbutils.library.restartPython()"
   ]
  },
  {
   "cell_type": "code",
   "execution_count": 0,
   "metadata": {
    "application/vnd.databricks.v1+cell": {
     "cellMetadata": {
      "byteLimit": 2048000,
      "rowLimit": 10000
     },
     "inputWidgets": {},
     "nuid": "90bc57fc-5df0-485a-bb0f-8fa9428a6c94",
     "showTitle": false,
     "tableResultSettingsMap": {},
     "title": ""
    }
   },
   "outputs": [],
   "source": [
    "dbutils.widgets.text(\"catalog\", \"mlops\")\n",
    "dbutils.widgets.text(\"schema\", \"mlops_zoomcamp_prj\")\n",
    "dbutils.widgets.text(\"tbl_name\", \"soft_quality_features\")\n",
    "\n",
    "\n",
    "catalog = dbutils.widgets.get(\"catalog\")\n",
    "db = dbutils.widgets.get(\"schema\")\n",
    "tbl_name = dbutils.widgets.get(\"tbl_name\")\n",
    "current_user = dbutils.notebook.entry_point.getDbutils().notebook().getContext().userName().get()"
   ]
  },
  {
   "cell_type": "code",
   "execution_count": 0,
   "metadata": {
    "application/vnd.databricks.v1+cell": {
     "cellMetadata": {
      "byteLimit": 2048000,
      "rowLimit": 10000
     },
     "inputWidgets": {},
     "nuid": "1842c3a6-5766-4884-8bd9-d8d7d808f7b9",
     "showTitle": false,
     "tableResultSettingsMap": {},
     "title": ""
    }
   },
   "outputs": [
    {
     "name": "stdout",
     "output_type": "stream",
     "text": [
      "Finding best run from churn_auto_ml_* and pushing new model version to mlops.mlops_zoomcamp_prj.software_defects\n",
      "207411282372909\n"
     ]
    }
   ],
   "source": [
    "import mlflow\n",
    "\n",
    "\n",
    "\n",
    "xp_name = \"software-defects\"\n",
    "xp_path = f\"/Users/{current_user}/mlops_prj\"\n",
    "\n",
    "churn_experiment_name = \"churn_auto_ml\"\n",
    "model_name = f\"{catalog}.{db}.software_defects\"\n",
    "print(f\"Finding best run from {churn_experiment_name}_* and pushing new model version to {model_name}\")\n",
    "xp_path = f\"/Users/{current_user}/mlops_prj\"\n",
    "\n",
    "experiment_id = mlflow.search_experiments(filter_string=f\"name LIKE '{xp_path}/{xp_name}%'\", order_by=[\"last_update_time DESC\"])[0].experiment_id\n",
    "print(experiment_id)"
   ]
  },
  {
   "cell_type": "code",
   "execution_count": 0,
   "metadata": {
    "application/vnd.databricks.v1+cell": {
     "cellMetadata": {
      "byteLimit": 2048000,
      "rowLimit": 10000
     },
     "inputWidgets": {},
     "nuid": "df8d4b1e-9cdb-48b7-ac8c-c3333350b492",
     "showTitle": false,
     "tableResultSettingsMap": {},
     "title": ""
    }
   },
   "outputs": [
    {
     "data": {
      "text/html": [
       "<div>\n",
       "<style scoped>\n",
       "    .dataframe tbody tr th:only-of-type {\n",
       "        vertical-align: middle;\n",
       "    }\n",
       "\n",
       "    .dataframe tbody tr th {\n",
       "        vertical-align: top;\n",
       "    }\n",
       "\n",
       "    .dataframe thead th {\n",
       "        text-align: right;\n",
       "    }\n",
       "</style>\n",
       "<table border=\"1\" class=\"dataframe\">\n",
       "  <thead>\n",
       "    <tr style=\"text-align: right;\">\n",
       "      <th></th>\n",
       "      <th>run_id</th>\n",
       "      <th>experiment_id</th>\n",
       "      <th>status</th>\n",
       "      <th>artifact_uri</th>\n",
       "      <th>start_time</th>\n",
       "      <th>end_time</th>\n",
       "      <th>metrics.accuracy</th>\n",
       "      <th>params.threeshold</th>\n",
       "      <th>params.n_estimators</th>\n",
       "      <th>params.max_depth</th>\n",
       "      <th>tags.mlflow.databricks.cluster.info</th>\n",
       "      <th>tags.mlflow.source.name</th>\n",
       "      <th>tags.mlflow.user</th>\n",
       "      <th>tags.mlflow.runName</th>\n",
       "      <th>tags.mlflow.runColor</th>\n",
       "      <th>tags.mlflow.databricks.notebook.commandID</th>\n",
       "      <th>tags.mlflow.databricks.workspaceURL</th>\n",
       "      <th>tags.mlflow.databricks.notebookRevisionID</th>\n",
       "      <th>tags.mlflow.log-model.history</th>\n",
       "      <th>tags.mlflow.databricks.cluster.libraries</th>\n",
       "      <th>tags.mlflow.databricks.cluster.id</th>\n",
       "      <th>tags.mlflow.databricks.notebookID</th>\n",
       "      <th>tags.mlflow.databricks.notebookPath</th>\n",
       "      <th>tags.mlflow.databricks.workspaceID</th>\n",
       "      <th>tags.mlflow.databricks.webappURL</th>\n",
       "      <th>tags.mlflow.source.type</th>\n",
       "    </tr>\n",
       "  </thead>\n",
       "  <tbody>\n",
       "    <tr>\n",
       "      <th>0</th>\n",
       "      <td>ed0db8e48c4342d1b96ec92b258f878f</td>\n",
       "      <td>207411282372909</td>\n",
       "      <td>FINISHED</td>\n",
       "      <td>dbfs:/databricks/mlflow-tracking/2074112823729...</td>\n",
       "      <td>2025-07-12 10:28:06.729000+00:00</td>\n",
       "      <td>2025-07-12 10:28:11.173000+00:00</td>\n",
       "      <td>0.896739</td>\n",
       "      <td>0.5</td>\n",
       "      <td>40</td>\n",
       "      <td>6</td>\n",
       "      <td>{\"cluster_name\":\"\",\"spark_version\":\"client.2.5...</td>\n",
       "      <td>/Users/dmitriy.shametko@gmail.com/2_train_model</td>\n",
       "      <td>dmitriy.shametko@gmail.com</td>\n",
       "      <td>resilient-pig-561</td>\n",
       "      <td>#7d54b2</td>\n",
       "      <td>1752315826002_5681728457939667123_99249bc39968...</td>\n",
       "      <td>https://dbc-88b955c3-50c9.cloud.databricks.com</td>\n",
       "      <td>1752316091225</td>\n",
       "      <td>[{\"artifact_path\":\"sklearn_model\",\"flavors\":{\"...</td>\n",
       "      <td>{\"installable\":[],\"redacted\":[]}</td>\n",
       "      <td>0712-102343-6l9qw845-v2n</td>\n",
       "      <td>3017689002890933</td>\n",
       "      <td>/Users/dmitriy.shametko@gmail.com/2_train_model</td>\n",
       "      <td>4145713868919298</td>\n",
       "      <td>https://dbc-88b955c3-50c9.cloud.databricks.com</td>\n",
       "      <td>NOTEBOOK</td>\n",
       "    </tr>\n",
       "  </tbody>\n",
       "</table>\n",
       "</div>"
      ],
      "text/plain": [
       "                             run_id  ... tags.mlflow.source.type\n",
       "0  ed0db8e48c4342d1b96ec92b258f878f  ...                NOTEBOOK\n",
       "\n",
       "[1 rows x 26 columns]"
      ]
     },
     "execution_count": 8,
     "metadata": {},
     "output_type": "execute_result"
    }
   ],
   "source": [
    "# Let's get our best ml run\n",
    "best_model = mlflow.search_runs(\n",
    "  experiment_ids=experiment_id,\n",
    "  order_by=[\"metrics.accuracy DESC\"],\n",
    "  max_results=1,\n",
    "#   filter_string=\"status = 'FINISHED' and run_name='mlops_best_run'\" #filter on mlops_best_run to always use the notebook 02 to have a more predictable demo\n",
    ")\n",
    "# Optional: Load MLflow Experiment as a spark df and see all runs\n",
    "# df = spark.read.format(\"mlflow-experiment\").load(experiment_id)\n",
    "best_model"
   ]
  },
  {
   "cell_type": "code",
   "execution_count": 0,
   "metadata": {
    "application/vnd.databricks.v1+cell": {
     "cellMetadata": {
      "byteLimit": 2048000,
      "rowLimit": 10000
     },
     "inputWidgets": {},
     "nuid": "7d4e3898-71e5-471c-a02f-6e426e26b80f",
     "showTitle": false,
     "tableResultSettingsMap": {},
     "title": ""
    }
   },
   "outputs": [
    {
     "name": "stdout",
     "output_type": "stream",
     "text": [
      "Registering model to mlops.mlops_zoomcamp_prj.software_defects\n"
     ]
    },
    {
     "name": "stderr",
     "output_type": "stream",
     "text": [
      "Successfully registered model 'mlops.mlops_zoomcamp_prj.software_defects'.\n",
      "Created version '1' of model 'mlops.mlops_zoomcamp_prj.software_defects'.\n"
     ]
    }
   ],
   "source": [
    "print(f\"Registering model to {model_name}\")  # {model_name} is defined in the setup script\n",
    "\n",
    "# Get the run id from the best model\n",
    "run_id = best_model.iloc[0]['run_id']\n",
    "\n",
    "# Register the best model from experiments run to MLflow model registry\n",
    "model_details = mlflow.register_model(f\"runs:/{run_id}/sklearn_model\", model_name)"
   ]
  },
  {
   "cell_type": "code",
   "execution_count": 0,
   "metadata": {
    "application/vnd.databricks.v1+cell": {
     "cellMetadata": {
      "byteLimit": 2048000,
      "rowLimit": 10000
     },
     "inputWidgets": {},
     "nuid": "f48c5e24-c07d-4f6c-be6e-13a7d4c1524f",
     "showTitle": false,
     "tableResultSettingsMap": {},
     "title": ""
    }
   },
   "outputs": [
    {
     "data": {
      "text/plain": [
       "<RegisteredModel: aliases={}, creation_timestamp=1752317285359, description='This model predicts whether a software has defects or not', last_updated_timestamp=1752317337959, latest_versions=None, name='mlops.mlops_zoomcamp_prj.software_defects', tags={}>"
      ]
     },
     "execution_count": 10,
     "metadata": {},
     "output_type": "execute_result"
    }
   ],
   "source": [
    "from mlflow import MlflowClient\n",
    "\n",
    "client = MlflowClient()\n",
    "\n",
    "# The main model description is typically done once.\n",
    "client.update_registered_model(\n",
    "  name=model_details.name,\n",
    "  description=\"This model predicts whether a software has defects or not\",\n",
    ")"
   ]
  },
  {
   "cell_type": "code",
   "execution_count": 0,
   "metadata": {
    "application/vnd.databricks.v1+cell": {
     "cellMetadata": {
      "byteLimit": 2048000,
      "rowLimit": 10000
     },
     "inputWidgets": {},
     "nuid": "52d5d199-2d9f-40bf-b3a2-cf2054b5b62d",
     "showTitle": false,
     "tableResultSettingsMap": {},
     "title": ""
    }
   },
   "outputs": [],
   "source": [
    "# Provide more details on this specific model version\n",
    "best_score = best_model['metrics.accuracy'].values[0]\n",
    "run_name = best_model['tags.mlflow.runName'].values[0]\n",
    "version_desc = f\"This model version has an accuracy metric of {round(best_score,4)*100}%. Follow the link to its training run for more details.\"\n",
    "\n",
    "client.update_model_version(\n",
    "  name=model_details.name,\n",
    "  version=model_details.version,\n",
    "  description=version_desc\n",
    ")\n",
    "\n",
    "# We can also tag the model version with the accuracy score for visibility\n",
    "client.set_model_version_tag(\n",
    "  name=model_details.name,\n",
    "  version=model_details.version,\n",
    "  key=\"accuracy\",\n",
    "  value=f\"{round(best_score,4)}\"\n",
    ")"
   ]
  },
  {
   "cell_type": "code",
   "execution_count": 0,
   "metadata": {
    "application/vnd.databricks.v1+cell": {
     "cellMetadata": {
      "byteLimit": 2048000,
      "rowLimit": 10000
     },
     "inputWidgets": {},
     "nuid": "ef5ab6cb-eef5-4f62-8e58-cbd5a50a2588",
     "showTitle": false,
     "tableResultSettingsMap": {},
     "title": ""
    }
   },
   "outputs": [],
   "source": [
    "# Set this version as the Candidate model, using its model alias\n",
    "client.set_registered_model_alias(\n",
    "  name=model_name,\n",
    "  alias=\"candidate\",\n",
    "  version=model_details.version\n",
    ")"
   ]
  }
 ],
 "metadata": {
  "application/vnd.databricks.v1+notebook": {
   "computePreferences": null,
   "dashboards": [],
   "environmentMetadata": {
    "base_environment": "",
    "environment_version": "2"
   },
   "inputWidgetPreferences": null,
   "language": "python",
   "notebookMetadata": {
    "pythonIndentUnit": 4
   },
   "notebookName": "3_model_registration",
   "widgets": {
    "catalog": {
     "currentValue": "mlops",
     "nuid": "4d34578a-47ba-43c8-ba7f-01354fd9c0cb",
     "typedWidgetInfo": {
      "autoCreated": false,
      "defaultValue": "mlops",
      "label": null,
      "name": "catalog",
      "options": {
       "validationRegex": null,
       "widgetDisplayType": "Text"
      },
      "parameterDataType": "String"
     },
     "widgetInfo": {
      "defaultValue": "mlops",
      "label": null,
      "name": "catalog",
      "options": {
       "autoCreated": null,
       "validationRegex": null,
       "widgetType": "text"
      },
      "widgetType": "text"
     }
    },
    "schema": {
     "currentValue": "mlops_zoomcamp_prj",
     "nuid": "ef4409cc-7901-42b9-a3a6-5455fb5423cb",
     "typedWidgetInfo": {
      "autoCreated": false,
      "defaultValue": "mlops_zoomcamp_prj",
      "label": null,
      "name": "schema",
      "options": {
       "validationRegex": null,
       "widgetDisplayType": "Text"
      },
      "parameterDataType": "String"
     },
     "widgetInfo": {
      "defaultValue": "mlops_zoomcamp_prj",
      "label": null,
      "name": "schema",
      "options": {
       "autoCreated": null,
       "validationRegex": null,
       "widgetType": "text"
      },
      "widgetType": "text"
     }
    },
    "tbl_name": {
     "currentValue": "soft_quality_features",
     "nuid": "aacbff4d-3567-413d-8d7d-5e5a27502a37",
     "typedWidgetInfo": {
      "autoCreated": false,
      "defaultValue": "soft_quality_features",
      "label": null,
      "name": "tbl_name",
      "options": {
       "validationRegex": null,
       "widgetDisplayType": "Text"
      },
      "parameterDataType": "String"
     },
     "widgetInfo": {
      "defaultValue": "soft_quality_features",
      "label": null,
      "name": "tbl_name",
      "options": {
       "autoCreated": null,
       "validationRegex": null,
       "widgetType": "text"
      },
      "widgetType": "text"
     }
    }
   }
  },
  "language_info": {
   "name": "python"
  }
 },
 "nbformat": 4,
 "nbformat_minor": 0
}
